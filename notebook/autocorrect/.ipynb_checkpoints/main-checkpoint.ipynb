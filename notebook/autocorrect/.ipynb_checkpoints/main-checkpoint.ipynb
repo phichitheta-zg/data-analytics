{
 "cells": [
  {
   "cell_type": "code",
   "execution_count": 89,
   "metadata": {},
   "outputs": [],
   "source": [
    "def correct_wordset(src, dest, func):\n",
    "    '''Corrects wordset using given function'''\n",
    "    with open(src, \"r\") as ifile:\n",
    "        words = [line.rstrip('\\n') for line in ifile if line != '\\n']\n",
    "        ifile.close()\n",
    "        \n",
    "    corrected = [func(word) for word in words]\n",
    "    \n",
    "    '''with open(dest, \"w\") as ofile:\n",
    "        for word in corrected:\n",
    "            ofile.write(word + \"\\n\")'''\n",
    "    \n",
    "    with open(dest, \"w\") as ofile:\n",
    "        for i in range(len(words)):\n",
    "            ofile.write(words[i] + \" --> \" + corrected[i] + \"\\n\")\n",
    "            \n",
    "# Helper functions\n",
    "def capitalize(word):\n",
    "    return word.capitalize()\n",
    "\n",
    "def lower(word):\n",
    "    return word.lower()\n",
    "\n",
    "def capitalize_all(words):\n",
    "    capitalized = [word.capitalize() for word in words.split()]\n",
    "    return ' '.join(capitalized)\n",
    "\n",
    "def longest_contained_substring(word, target):\n",
    "    ''' Find longest contained substring '''\n",
    "    all_substr = [target[i: j] for i in range(len(target)) \n",
    "          for j in range(i + 1, len(target) + 1)] \n",
    "    all_substr.sort(key=len, reverse=True)\n",
    "    \n",
    "    for substr in all_substr:\n",
    "        if word.find(substr) != -1:\n",
    "            return len(substr)\n",
    "        \n",
    "    return 0\n",
    "    \n",
    "def autocorrect_similar(target):\n",
    "    '''Find similar word by longest contained substring'''\n",
    "    wordset = \"wordsets/majors.txt\"\n",
    "    with open(wordset, \"r\") as ifile:\n",
    "        words = [line.rstrip('\\n').lower() for line in ifile if line != '\\n']\n",
    "        ifile.close()\n",
    "        \n",
    "    word_dict = {}\n",
    "    target_l = target.lower()\n",
    "    for word in words:\n",
    "        word_dict[word] = longest_contained_substring(word, target_l)\n",
    "        \n",
    "    return capitalize_all(sorted(word_dict.keys(), key=lambda word: (word_dict[word], 0 - len(word)), reverse=True)[0])\n",
    "    "
   ]
  },
  {
   "cell_type": "code",
   "execution_count": 90,
   "metadata": {},
   "outputs": [],
   "source": [
    "if __name__ == '__main__':\n",
    "    correct_wordset('input.txt', 'output.txt', autocorrect_similar)"
   ]
  },
  {
   "cell_type": "code",
   "execution_count": null,
   "metadata": {},
   "outputs": [],
   "source": []
  }
 ],
 "metadata": {
  "kernelspec": {
   "display_name": "Python 3",
   "language": "python",
   "name": "python3"
  },
  "language_info": {
   "codemirror_mode": {
    "name": "ipython",
    "version": 3
   },
   "file_extension": ".py",
   "mimetype": "text/x-python",
   "name": "python",
   "nbconvert_exporter": "python",
   "pygments_lexer": "ipython3",
   "version": "3.8.0"
  }
 },
 "nbformat": 4,
 "nbformat_minor": 4
}
