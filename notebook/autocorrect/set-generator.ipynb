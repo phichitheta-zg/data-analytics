{
 "cells": [
  {
   "cell_type": "code",
   "execution_count": 12,
   "metadata": {},
   "outputs": [],
   "source": [
    "def generate_correct_wordset(in_filename, out_filename, mincount):\n",
    "    ''' Generates a wordset trimming words that do not meet the required min. occurrences\n",
    "    \n",
    "    A rough method to generate a 'correct' wordset for autocorrect, by removing the least common inputs,\n",
    "    keeping the most common as the 'correct' ones.\n",
    "    \n",
    "    :param in_filename: input filename\n",
    "    :param out_filename: output filename\n",
    "    :param mincount: minimum occurrences for words to be kept in wordset\n",
    "    \n",
    "    Returns dict of words kept in the set and their counts\n",
    "    '''\n",
    "    from collections import Counter\n",
    "    \n",
    "    with open(in_filename, \"r\") as ifile:\n",
    "        words = [line.rstrip('\\n') for line in ifile]\n",
    "        ifile.close()\n",
    "        \n",
    "    word_count = Counter(words)\n",
    "    final_wordset = {key : val for key, val in word_count.items() if (val >= mincount)} \n",
    "    \n",
    "    with open(out_filename, \"w\") as ofile:\n",
    "        for key, val in final_wordset.items():\n",
    "            for i in range(val):\n",
    "                ofile.write(key + \"\\n\")\n",
    "                \n",
    "        ofile.close()\n",
    "\n",
    "    return final_wordset"
   ]
  },
  {
   "cell_type": "code",
   "execution_count": 13,
   "metadata": {},
   "outputs": [
    {
     "name": "stdout",
     "output_type": "stream",
     "text": [
      "{'Fall 19': 20, 'Spring 18': 14, 'Spring 19': 11, 'Fall 18': 14, 'Spring 20': 16, 'Spring 17': 11, 'Fall 17': 13, 'Fall 16': 8, 'Fall 2019': 5, 'Fall 2017': 6, 'Spring 2019': 6, 'Fall 2018': 6, 'Spring 2020': 6, 'Spring 2018': 5}\n"
     ]
    }
   ],
   "source": [
    "if __name__ == '__main__':\n",
    "    print(generate_correct_wordset(\"input.txt\", \"wordsets/pledge_semester.txt\", 2))"
   ]
  },
  {
   "cell_type": "code",
   "execution_count": null,
   "metadata": {},
   "outputs": [],
   "source": []
  }
 ],
 "metadata": {
  "kernelspec": {
   "display_name": "Python 3",
   "language": "python",
   "name": "python3"
  },
  "language_info": {
   "codemirror_mode": {
    "name": "ipython",
    "version": 3
   },
   "file_extension": ".py",
   "mimetype": "text/x-python",
   "name": "python",
   "nbconvert_exporter": "python",
   "pygments_lexer": "ipython3",
   "version": "3.8.0"
  }
 },
 "nbformat": 4,
 "nbformat_minor": 4
}
