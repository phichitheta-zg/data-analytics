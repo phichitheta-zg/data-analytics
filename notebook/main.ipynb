{
 "cells": [
  {
   "cell_type": "code",
   "execution_count": 37,
   "metadata": {},
   "outputs": [
    {
     "data": {
      "image/png": "[encoded data removed]",
      "text/plain": [
       "<Figure size 432x288 with 1 Axes>"
      ]
     },
     "metadata": {
      "needs_background": "light"
     },
     "output_type": "display_data"
    }
   ],
   "source": [
    "import os\n",
    "from dotenv import load_dotenv\n",
    "import numpy as np\n",
    "import pandas as pd\n",
    "import matplotlib as plt\n",
    "from airtable import Airtable\n",
    "load_dotenv()\n",
    "\n",
    "# # Loading in Airtable\n",
    "API_KEY = os.getenv('AIRTABLE_API_KEY')\n",
    "BASE_KEY = os.getenv('AIRTABLE_BASE_KEY')\n",
    "\n",
    "table_name = 'interviewData'\n",
    "airtable = Airtable(BASE_KEY, table_name, API_KEY)\n",
    "\n",
    "# Get 2 records\n",
    "records = airtable.get_all()\n",
    "df = pd.DataFrame.from_records((r['fields'] for r in records))\n",
    "df1 = df.groupby(['School Year'])['Interview Experience Score'].mean().reset_index()\n",
    "\n",
    "ax = df1.plot.bar(x='School Year', y='Interview Experience Score', rot=0)\n",
    "#df.head()"
   ]
  },
  {
   "cell_type": "code",
   "execution_count": null,
   "metadata": {},
   "outputs": [],
   "source": []
  },
  {
   "cell_type": "code",
   "execution_count": null,
   "metadata": {},
   "outputs": [],
   "source": []
  },
  {
   "cell_type": "code",
   "execution_count": null,
   "metadata": {},
   "outputs": [],
   "source": []
  },
  {
   "cell_type": "code",
   "execution_count": null,
   "metadata": {},
   "outputs": [],
   "source": []
  }
 ],
 "metadata": {
  "kernelspec": {
   "display_name": "Python 3",
   "language": "python",
   "name": "python3"
  },
  "language_info": {
   "codemirror_mode": {
    "name": "ipython",
    "version": 3
   },
   "file_extension": ".py",
   "mimetype": "text/x-python",
   "name": "python",
   "nbconvert_exporter": "python",
   "pygments_lexer": "ipython3",
   "version": "3.8.3"
  }
 },
 "nbformat": 4,
 "nbformat_minor": 4
}
